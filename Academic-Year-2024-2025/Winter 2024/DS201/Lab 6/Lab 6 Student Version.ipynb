{
  "cells": [
    {
      "cell_type": "markdown",
      "metadata": {},
      "source": [
        "# Lab 6: Evaluating & Tuning Diagnosisifiers\n",
        "\n",
        "## Objective\n",
        "\n",
        "In this lab, you will learn how to:\n",
        "\n",
        "1.  Load and inspect the breast cancer dataset.\n",
        "2.  Split the data into training and test sets (using stratified\n",
        "    sampling).\n",
        "3.  Preprocess the data by standardizing selected features.\n",
        "4.  Build a baseline **KNN Diagnosisifier** and evaluate its performance\n",
        "    using accuracy and a confusion matrix.\n",
        "5.  Tune the Diagnosisifier using **GridSearchCV** with\n",
        "    cross‑validation.\n",
        "\n",
        "> **Reference**: For details, see *Data Science: A First Introduction\n",
        "> with Python*, especially Chapter 6.\n",
        "\n",
        "------------------------------------------------------------------------\n",
        "\n",
        "## Step 1: Data Loading and Inspection"
      ],
      "id": "f8e622a4-cc19-4d89-a70b-a04e9cd27a81"
    },
    {
      "cell_type": "code",
      "execution_count": 1,
      "metadata": {},
      "outputs": [],
      "source": [
        "# TODO: Import the necessary packages\n",
        "# Hint: you'll need at least pandas, numpy (for setting a random seed),\n",
        "# and from sklearn: train_test_split, StandardScaler, make_column_transformer,\n",
        "# KNeighborsClassifier, GridSearchCV, and make_pipeline.\n",
        "# from sklearn.model_selection import cross_val_score might be useful too.\n",
        "\n",
        "# TODO: Read the \"wdbc.csv\" file into a DataFrame called cancer.\n",
        "#       Then replace 'M' with 'Malignant' and 'B' with 'Benign'\n",
        "#       in the \"Diagnosis\" column.\n",
        "\n",
        "# Print the first 5 rows to verify\n",
        "print(cancer.head())\n",
        "\n",
        "# Print info about the dataset\n",
        "print(cancer.info())"
      ],
      "id": "60ccecf2"
    },
    {
      "cell_type": "markdown",
      "metadata": {},
      "source": [
        "------------------------------------------------------------------------\n",
        "\n",
        "## Step 2: Preprocessing and Train/Test Split"
      ],
      "id": "008a347a-555f-408b-a1cd-6355bf718658"
    },
    {
      "cell_type": "code",
      "execution_count": 2,
      "metadata": {},
      "outputs": [],
      "source": [
        "# TODO: Split the dataset into training (75%) and test (25%) sets.\n",
        "#       Make sure to stratify on the \"Diagnosis\" column\n",
        "#       and set random_state=1 for reproducibility.\n",
        "\n",
        "# Print shapes to confirm\n",
        "print(\"Training shape:\", cancer_train.shape)\n",
        "print(\"Test shape:\", cancer_test.shape)\n",
        "\n",
        "# TODO: Create a preprocessor that standardizes\n",
        "#       \"area_mean\" and \"smoothness_mean\""
      ],
      "id": "3938bbdd"
    },
    {
      "cell_type": "markdown",
      "metadata": {},
      "source": [
        "------------------------------------------------------------------------\n",
        "\n",
        "## Step 3: Building and Evaluating a Baseline Diagnosisifier"
      ],
      "id": "73489aa2-0825-4192-8326-ad7bf64507ad"
    },
    {
      "cell_type": "code",
      "execution_count": 3,
      "metadata": {},
      "outputs": [],
      "source": [
        "# TODO: Create a KNeighborsClassifier with n_neighbors=5\n",
        "#       Then make a pipeline (preprocessor + your KNN classifier).\n",
        "\n",
        "# TODO: From the training set, select X_train = [\"area_mean\", \"smoothness_mean\"]\n",
        "#       and y_train = [\"Diagnosis\"].\n",
        "#       Fit the pipeline on (X_train, y_train).\n",
        "\n",
        "# Evaluate the pipeline on the test set\n",
        "# (select the same 2 columns from the test set)\n",
        "baseline_accuracy = ___\n",
        "print(\"Baseline Accuracy:\", baseline_accuracy)"
      ],
      "id": "d290003c"
    },
    {
      "cell_type": "markdown",
      "metadata": {},
      "source": [
        "------------------------------------------------------------------------\n",
        "\n",
        "## Step 4: Tuning the Diagnosisifier with GridSearchCV"
      ],
      "id": "ee9687c8-0511-4d10-b723-cfc0a145890c"
    },
    {
      "cell_type": "code",
      "execution_count": 4,
      "metadata": {},
      "outputs": [],
      "source": [
        "# TODO: Define a parameter_grid for \"kneighborsclassifier__n_neighbors\"\n",
        "#       that tries values: 1, 6, 11, ... 96 (hint: range(1, 100, 5))\n",
        "\n",
        "# Create a fresh pipeline for tuning\n",
        "knn_for_tuning = KNeighborsClassifier()\n",
        "tune_pipeline = ___\n",
        "\n",
        "# Use GridSearchCV with cv=10\n",
        "grid_search = GridSearchCV(___)\n",
        "grid_search.fit(___)\n",
        "\n",
        "print(\"Best parameters:\", grid_search.best_params_)\n",
        "print(\"Best cross-validation accuracy:\", grid_search.best_score_)"
      ],
      "id": "bcbbfca7"
    },
    {
      "cell_type": "markdown",
      "metadata": {},
      "source": [
        "*(Optional)* A quick cross-validation check:"
      ],
      "id": "0b6824b9-423c-4302-b187-5598ecf69c11"
    },
    {
      "cell_type": "code",
      "execution_count": 5,
      "metadata": {},
      "outputs": [],
      "source": [
        "# (If you wish) cross_val_score demonstration\n",
        "# cv_scores = cross_val_score(tune_pipeline, X_train, y_train, cv=5)\n",
        "# print(\"Cross-validation scores:\", cv_scores)\n",
        "# print(\"Mean CV accuracy:\", cv_scores.mean())"
      ],
      "id": "d28b47b1"
    },
    {
      "cell_type": "markdown",
      "metadata": {},
      "source": [
        "------------------------------------------------------------------------\n",
        "\n",
        "## Step 5: Evaluating the Tuned Model"
      ],
      "id": "f2699924-1000-4c93-aa6b-5287572a04a5"
    },
    {
      "cell_type": "code",
      "execution_count": 6,
      "metadata": {},
      "outputs": [],
      "source": [
        "# TODO: Predict on X_test using the fitted grid_search.\n",
        "#       Then measure the test-set accuracy.\n",
        "\n",
        "# Save predictions into a column \"predicted\" in cancer_test\n",
        "cancer_test[\"predicted\"] = ___\n",
        "\n",
        "# Evaluate test accuracy\n",
        "tuned_accuracy = ___\n",
        "print(\"Test Accuracy (Tuned):\", tuned_accuracy)\n",
        "\n",
        "# Create and print a confusion matrix\n",
        "import pandas as pd\n",
        "conf_matrix = pd.crosstab(cancer_test[\"Diagnosis\"], cancer_test[\"predicted\"])\n",
        "print(\"Confusion Matrix:\")\n",
        "print(conf_matrix)"
      ],
      "id": "5e9c8b55"
    },
    {
      "cell_type": "markdown",
      "metadata": {},
      "source": [
        "------------------------------------------------------------------------\n",
        "\n",
        "## Final Reflection\n",
        "\n",
        "1.  Compare the **baseline** vs. **tuned** model’s test accuracy. Did\n",
        "    the hyperparameter tuning help?  \n",
        "2.  Why use **cross-validation** inside `GridSearchCV` rather than the\n",
        "    test set for tuning?  \n",
        "3.  Look at the confusion matrix: where might your classifier be making\n",
        "    mistakes?  \n",
        "4.  In a medical context, do you think false negatives or false\n",
        "    positives are more concerning? Could you see ways to adjust for\n",
        "    that?\n",
        "\n",
        "------------------------------------------------------------------------\n",
        "\n",
        "## **Function Summary**\n",
        "\n",
        "Below are quick reminders on a few important functions:\n",
        "\n",
        "1.  **`pd.read_csv(\"some_file.csv\")`**\n",
        "    -   Reads a CSV into a `pandas` DataFrame.\n",
        "2.  **`df.replace({\"OldVal\": \"NewVal\"})`**\n",
        "    -   Replaces values in a DataFrame or Series. For example,\n",
        "        `df[\"col\"].replace({\"M\": \"Malignant\"})`.\n",
        "3.  **`train_test_split(X, y, train_size=..., stratify=..., random_state=...)`**\n",
        "    -   Splits data into training and test subsets.  \n",
        "    -   `train_size=0.75` means 75% training, 25% test.  \n",
        "    -   `stratify` ensures proportional class representation.\n",
        "4.  **`StandardScaler()`**\n",
        "    -   Standardizes numerical columns (mean=0, stdev=1).\n",
        "5.  **`make_column_transformer((Transformer(), [columns]))`**\n",
        "    -   Specifies which columns to transform, e.g. `StandardScaler`.\n",
        "6.  **`KNeighborsClassifier(n_neighbors=...)`**\n",
        "    -   A K-NN classifier. You can tune `n_neighbors`.\n",
        "7.  **`make_pipeline(preprocessor, model)`**\n",
        "    -   Chains steps into one workflow: first preprocessor, then model.\n",
        "8.  **`pipeline.fit(X, y)`**\n",
        "    -   Trains (fits) the pipeline (which in turn fits the\n",
        "        preprocessor + model).\n",
        "9.  **`pipeline.score(X, y)`**\n",
        "    -   Returns the accuracy on `(X, y)` if the model is a classifier.\n",
        "10. **`GridSearchCV(estimator=..., param_grid=..., cv=..., ...)`**\n",
        "    -   Tries multiple hyperparameter combos using cross-validation.  \n",
        "    -   The `best_params_` and `best_score_` can be accessed after\n",
        "        `.fit(...)`.\n",
        "11. **`pipeline.predict(X)`**\n",
        "    -   Predicts classes for the rows of `X`.\n",
        "12. **`pd.crosstab(col1, col2)`**\n",
        "    -   Creates a cross-tabulation (confusion matrix) comparing `col1`\n",
        "        vs. `col2`."
      ],
      "id": "104c6126-1575-4d09-9a13-05b4d943d054"
    }
  ],
  "nbformat": 4,
  "nbformat_minor": 5,
  "metadata": {
    "kernelspec": {
      "name": "python3",
      "display_name": "Python 3 (ipykernel)",
      "language": "python",
      "path": "/Users/briancervantesalvarez/anaconda3/share/jupyter/kernels/python3"
    },
    "language_info": {
      "name": "python",
      "codemirror_mode": {
        "name": "ipython",
        "version": "3"
      },
      "file_extension": ".py",
      "mimetype": "text/x-python",
      "nbconvert_exporter": "python",
      "pygments_lexer": "ipython3",
      "version": "3.10.9"
    }
  }
}