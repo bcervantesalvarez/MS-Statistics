{
  "cells": [
    {
      "cell_type": "markdown",
      "metadata": {},
      "source": [
        "# Lab 2: Reading and Manipulating Data with Pandas\n",
        "\n",
        "## Objective\n",
        "\n",
        "This lab aims to familiarize you with reading data into Python using\n",
        "pandas, manipulating DataFrames, reshaping data, indexing, assigning or\n",
        "modifying columns, merging DataFrames, sorting data, and exporting data.\n",
        "By the end of this lab, you will be able to:\n",
        "\n",
        "-   Load datasets using `seaborn`’s `load_dataset` function.\n",
        "-   Explore and inspect DataFrames.\n",
        "-   Select and filter data using `iloc` and `loc`.\n",
        "-   Assign or modify columns using `assign`.\n",
        "-   Reshape DataFrames using `melt` and `pivot`.\n",
        "-   Merge two DataFrames.\n",
        "-   Sort data and select top entries.\n",
        "-   Write DataFrames to CSV files.\n",
        "-   Access function documentation.\n",
        "\n",
        "------------------------------------------------------------------------\n",
        "\n",
        "## 1. Importing Necessary Libraries\n",
        "\n",
        "Begin by importing the necessary libraries. We’ll use `pandas` for data\n",
        "manipulation and `seaborn` to load the Titanic dataset."
      ],
      "id": "c91869ac-2882-43c0-8956-45cbb8db80b5"
    },
    {
      "cell_type": "code",
      "execution_count": 1,
      "metadata": {},
      "outputs": [],
      "source": [
        "import pandas as pd\n",
        "import seaborn as sns"
      ],
      "id": "5686d3b3"
    },
    {
      "cell_type": "markdown",
      "metadata": {},
      "source": [
        "------------------------------------------------------------------------\n",
        "\n",
        "## 2. Loading the Titanic Dataset\n",
        "\n",
        "Load the Titanic dataset into a pandas DataFrame using `seaborn`’s\n",
        "`load_dataset` function."
      ],
      "id": "2f56b83b-6c26-478e-a8cf-26c10a0e25eb"
    },
    {
      "cell_type": "code",
      "execution_count": 2,
      "metadata": {},
      "outputs": [],
      "source": [
        "# Load the Titanic dataset\n",
        "titanic = sns.load_dataset(\"titanic\")\n",
        "\n",
        "# Display the first few rows of the DataFrame\n",
        "print(titanic.head())"
      ],
      "id": "57c87b66"
    },
    {
      "cell_type": "markdown",
      "metadata": {},
      "source": [
        "------------------------------------------------------------------------\n",
        "\n",
        "## 3. Exploring the DataFrame\n",
        "\n",
        "Inspect the DataFrame to understand its structure, including the number\n",
        "of rows and columns, and data types of each column."
      ],
      "id": "bd0ea68c-550c-4033-a2fe-432357dd99ce"
    },
    {
      "cell_type": "code",
      "execution_count": 3,
      "metadata": {},
      "outputs": [],
      "source": [
        "# Display information about the DataFrame\n",
        "print(titanic.info())\n",
        "\n",
        "# Display summary statistics for numerical columns\n",
        "print(titanic.describe())\n",
        "\n",
        "# Display summary statistics for categorical columns\n",
        "print(titanic.describe(include=['object', 'category']))"
      ],
      "id": "fbbb2471"
    },
    {
      "cell_type": "markdown",
      "metadata": {},
      "source": [
        "------------------------------------------------------------------------\n",
        "\n",
        "## 4. Selecting Specific Columns\n",
        "\n",
        "Select the `sex`, `class`, and `fare` columns from the DataFrame."
      ],
      "id": "d42c3930-dd4e-4a22-909b-3d39c4d03288"
    },
    {
      "cell_type": "code",
      "execution_count": 4,
      "metadata": {},
      "outputs": [],
      "source": [
        "# Select 'sex', 'class', and 'fare' columns\n",
        "selected_columns = titanic[['sex', 'class', 'fare']]\n",
        "\n",
        "# Display the first few rows of the selected columns\n",
        "print(selected_columns.head())"
      ],
      "id": "8652d864"
    },
    {
      "cell_type": "markdown",
      "metadata": {},
      "source": [
        "------------------------------------------------------------------------\n",
        "\n",
        "## 5. Filtering Rows Based on a Condition\n",
        "\n",
        "Filter the DataFrame to include only rows where the `survived` is `1`."
      ],
      "id": "f619c32c-10fa-42e3-9467-f11d7fdfe2d5"
    },
    {
      "cell_type": "code",
      "execution_count": 5,
      "metadata": {},
      "outputs": [],
      "source": [
        "# Filter rows where 'survived' is 1 (passengers who survived)\n",
        "survived_passengers = titanic[titanic['survived'] == 1].copy()\n",
        "\n",
        "# Display the first few rows of the filtered DataFrame\n",
        "print(survived_passengers.head())"
      ],
      "id": "a7993edf"
    },
    {
      "cell_type": "markdown",
      "metadata": {},
      "source": [
        "------------------------------------------------------------------------\n",
        "\n",
        "## 6. Assigning or Modifying Columns Using `assign`\n",
        "\n",
        "Use the `assign` function to add or modify columns in a DataFrame."
      ],
      "id": "61a35544-4b84-4e5a-aad5-54a69db3a904"
    },
    {
      "cell_type": "code",
      "execution_count": 6,
      "metadata": {},
      "outputs": [],
      "source": [
        "# Add a new column 'fare_category' based on fare\n",
        "titanic_cleaned = titanic.assign(\n",
        "    fare_category=lambda df: pd.cut(\n",
        "        df['fare'], \n",
        "        bins=[0, 50, 100, 150, df['fare'].max()],\n",
        "        labels=['Low', 'Medium', 'High', 'Very High']\n",
        "    )\n",
        ")\n",
        "\n",
        "# Display the first few rows with the new column\n",
        "print(titanic_cleaned[['fare', 'fare_category']].head())"
      ],
      "id": "c5c714a1"
    },
    {
      "cell_type": "markdown",
      "metadata": {},
      "source": [
        "------------------------------------------------------------------------\n",
        "\n",
        "## 7. Indexing DataFrames with `iloc` and `loc`\n",
        "\n",
        "### 7.1: Using `iloc` for Integer-Based Indexing\n",
        "\n",
        "The `iloc` function allows for integer-location based indexing for\n",
        "selection by position."
      ],
      "id": "04cb05fa-83c6-4d74-ad92-d767ade88ab3"
    },
    {
      "cell_type": "code",
      "execution_count": 7,
      "metadata": {},
      "outputs": [],
      "source": [
        "# Using iloc to select the first 5 rows and first 3 columns\n",
        "subset_iloc = titanic_cleaned.iloc[:5, :3]\n",
        "print(subset_iloc)"
      ],
      "id": "c897a770"
    },
    {
      "cell_type": "markdown",
      "metadata": {},
      "source": [
        "### 7.2: Selecting Specific Rows and Columns with `iloc`"
      ],
      "id": "efc08d90-3792-4ff1-8d96-c5ee578de198"
    },
    {
      "cell_type": "code",
      "execution_count": 8,
      "metadata": {},
      "outputs": [],
      "source": [
        "# Using iloc to select specific rows and columns\n",
        "subset_iloc_specific = titanic_cleaned.iloc[[0, 2, 4], [1, 3]]\n",
        "print(\"\\nSpecific subset using iloc:\")\n",
        "print(subset_iloc_specific)"
      ],
      "id": "f282671b"
    },
    {
      "cell_type": "markdown",
      "metadata": {},
      "source": [
        "### 7.3: Using `loc` for Label-Based Indexing\n",
        "\n",
        "The `loc` function allows for label-based indexing to select rows and\n",
        "columns by their labels."
      ],
      "id": "0925e8b8-e4f9-47e8-b051-3c1a1ee89e91"
    },
    {
      "cell_type": "code",
      "execution_count": 9,
      "metadata": {},
      "outputs": [],
      "source": [
        "# Using loc to select rows and columns based on labels\n",
        "subset_loc = titanic_cleaned.loc[\n",
        "    (titanic_cleaned['embarked'] == 'S') & (titanic_cleaned['class'] == 'Third'),\n",
        "    ['sex', 'fare', 'embarked']\n",
        "]\n",
        "\n",
        "# Display the subset\n",
        "print(subset_loc.head())"
      ],
      "id": "87d9df22"
    },
    {
      "cell_type": "markdown",
      "metadata": {},
      "source": [
        "------------------------------------------------------------------------\n",
        "\n",
        "## 8. Reshaping DataFrames\n",
        "\n",
        "Learn how to reshape DataFrames using `melt` and `pivot` functions.\n",
        "\n",
        "### 8.1 Using `melt` to Unpivot DataFrames\n",
        "\n",
        "The `melt` function transforms a DataFrame from wide format to long\n",
        "format."
      ],
      "id": "fe061126-ae0b-409b-83b6-3ec6effcbedc"
    },
    {
      "cell_type": "code",
      "execution_count": 10,
      "metadata": {},
      "outputs": [],
      "source": [
        "# Example DataFrame\n",
        "data = {\n",
        "    'id': [1, 2, 3],\n",
        "    'year_2020': [100, 150, 200],\n",
        "    'year_2021': [110, 160, 210]\n",
        "}\n",
        "df_wide = pd.DataFrame(data)\n",
        "print(\"Wide DataFrame:\")\n",
        "print(df_wide)\n",
        "\n",
        "# Melt the DataFrame\n",
        "df_long = pd.melt(df_wide, id_vars=['id'], var_name='year', value_name='value')\n",
        "print(\"\\nLong DataFrame:\")\n",
        "print(df_long)"
      ],
      "id": "81843bf8"
    },
    {
      "cell_type": "markdown",
      "metadata": {},
      "source": [
        "### 8.2 Using `pivot` to Reshape DataFrames\n",
        "\n",
        "The `pivot` function reshapes a DataFrame from long format to wide\n",
        "format."
      ],
      "id": "c5f08090-001b-467f-82b2-037e3be5384c"
    },
    {
      "cell_type": "code",
      "execution_count": 11,
      "metadata": {},
      "outputs": [],
      "source": [
        "# Pivot the long DataFrame back to wide format\n",
        "df_pivot = df_long.pivot(index='id', columns='year', values='value').reset_index()\n",
        "print(\"\\nPivoted DataFrame:\")\n",
        "print(df_pivot)"
      ],
      "id": "dc040c50"
    },
    {
      "cell_type": "markdown",
      "metadata": {},
      "source": [
        "------------------------------------------------------------------------\n",
        "\n",
        "## 9. Merging Two DataFrames\n",
        "\n",
        "Combine two DataFrames using the `merge` function based on a common key."
      ],
      "id": "c476c30e-86de-4f7d-a25d-291246b21ae8"
    },
    {
      "cell_type": "code",
      "execution_count": 12,
      "metadata": {},
      "outputs": [],
      "source": [
        "# Create a second DataFrame with class and number of passengers\n",
        "class_info = pd.DataFrame({\n",
        "    'class': ['First', 'Second', 'Third'],\n",
        "    'passengers': [216, 184, 491]\n",
        "})\n",
        "\n",
        "# Merge the two DataFrames on 'class'\n",
        "merged_df = pd.merge(grouped, class_info, on='class')\n",
        "\n",
        "# Display the merged DataFrame\n",
        "print(merged_df)"
      ],
      "id": "4791421a"
    },
    {
      "cell_type": "markdown",
      "metadata": {},
      "source": [
        "------------------------------------------------------------------------\n",
        "\n",
        "## 10. Sorting Data and Selecting Top Entries\n",
        "\n",
        "Sort the `survived_passengers` DataFrame by the `fare` column in\n",
        "descending order and select the top 10 passengers who paid the highest\n",
        "fares."
      ],
      "id": "a954c240-7ed3-42ad-b4f5-dae78c781e60"
    },
    {
      "cell_type": "code",
      "execution_count": 13,
      "metadata": {},
      "outputs": [],
      "source": [
        "# Sort the DataFrame by 'fare' in descending order\n",
        "sorted_fare = survived_passengers.sort_values(by=\"fare\", ascending=False)\n",
        "\n",
        "# Select the top 10 passengers with the highest fares\n",
        "top_ten_fares = sorted_fare.head(10)\n",
        "\n",
        "# Display the top 10 fares\n",
        "print(top_ten_fares[['sex', 'class', 'fare']])"
      ],
      "id": "198aa7d3"
    },
    {
      "cell_type": "markdown",
      "metadata": {},
      "source": [
        "------------------------------------------------------------------------\n",
        "\n",
        "## 11. Writing the DataFrame to a CSV File\n",
        "\n",
        "Export the `top_ten_fares` DataFrame to a new CSV file named\n",
        "`top_ten_fares.csv`. Exclude the DataFrame index from the output file."
      ],
      "id": "cbbd15a2-7af5-4153-be71-7a021f418ca0"
    },
    {
      "cell_type": "code",
      "execution_count": 14,
      "metadata": {},
      "outputs": [],
      "source": [
        "# Write the DataFrame to a CSV file without the index\n",
        "top_ten_fares.to_csv(\"top_ten_fares.csv\", index=False)\n",
        "\n",
        "# Confirm that the file has been written by displaying its contents\n",
        "print(pd.read_csv(\"top_ten_fares.csv\"))"
      ],
      "id": "4bd40dfe"
    },
    {
      "cell_type": "markdown",
      "metadata": {},
      "source": [
        "------------------------------------------------------------------------\n",
        "\n",
        "## 12. Accessing Documentation\n",
        "\n",
        "Use the `help()` function to access the documentation for the `read_csv`\n",
        "function. This will provide detailed information about its parameters\n",
        "and usage."
      ],
      "id": "51b7ff84-fac0-4e74-959f-b5953f3b3757"
    },
    {
      "cell_type": "code",
      "execution_count": 15,
      "metadata": {},
      "outputs": [],
      "source": [
        "# Access the documentation for pandas.read_csv\n",
        "help(pd.read_csv)"
      ],
      "id": "6ed335e4"
    },
    {
      "cell_type": "markdown",
      "metadata": {},
      "source": [
        "*Alternatively, in a Jupyter Notebook, you can use the `?` operator:*"
      ],
      "id": "a599abd7-c9dd-418f-a092-8e3338a2a612"
    },
    {
      "cell_type": "code",
      "execution_count": 16,
      "metadata": {},
      "outputs": [],
      "source": [
        "pd.read_csv?"
      ],
      "id": "b5183c5b"
    },
    {
      "cell_type": "markdown",
      "metadata": {},
      "source": [
        "------------------------------------------------------------------------\n",
        "\n",
        "# Lab Exercises\n",
        "\n",
        "## **Exercise 1: Selecting and Filtering Data**\n",
        "\n",
        "**Objective:**  \n",
        "Practice selecting specific columns and filtering rows based on multiple\n",
        "conditions to extract meaningful subsets of data.\n",
        "\n",
        "### **1.1: Selecting Specific Columns**\n",
        "\n",
        "**Question:**  \n",
        "From the `titanic_cleaned` DataFrame, select only the `sex`, `class`,\n",
        "and `fare` columns. Assign the resulting DataFrame to `selected_columns`\n",
        "and display the first five rows."
      ],
      "id": "303743bf-8ea9-4ca7-bb00-3e918ce78e47"
    },
    {
      "cell_type": "code",
      "execution_count": 17,
      "metadata": {},
      "outputs": [],
      "source": [
        "# Select specific columns\n",
        "\n",
        "# Display the first five rows"
      ],
      "id": "2992a35d"
    },
    {
      "cell_type": "markdown",
      "metadata": {},
      "source": [
        "### **1.2: Filtering Rows Based on Conditions**\n",
        "\n",
        "**Question:**  \n",
        "Filter the `titanic_cleaned` DataFrame to include only passengers who\n",
        "survived (`survived` == 1). Assign this filtered DataFrame to\n",
        "`survived_passengers` and display the first five rows."
      ],
      "id": "9c82f279-4a01-4878-bf80-9cbca238aca3"
    },
    {
      "cell_type": "code",
      "execution_count": 18,
      "metadata": {},
      "outputs": [],
      "source": [
        "# Filter passengers who survived\n",
        "\n",
        "# Display the first five rows)"
      ],
      "id": "d94f6437"
    },
    {
      "cell_type": "markdown",
      "metadata": {},
      "source": [
        "### **1.3: Combining Selection and Filtering with `loc[]`**\n",
        "\n",
        "**Question:**  \n",
        "Use the `loc[]` accessor to filter the `titanic_cleaned` DataFrame for\n",
        "passengers who survived and select only the `sex` and `fare` columns.\n",
        "Assign the resulting DataFrame to `survived_sex_fare` and display the\n",
        "first five rows."
      ],
      "id": "8dc0c552-8369-4724-9eb7-b56a1e8af5d9"
    },
    {
      "cell_type": "code",
      "execution_count": 19,
      "metadata": {},
      "outputs": [],
      "source": [
        "# Use loc[] to filter and select specific columns\n",
        "\n",
        "# Display the first five rows"
      ],
      "id": "a1db547f"
    },
    {
      "cell_type": "markdown",
      "metadata": {},
      "source": [
        "------------------------------------------------------------------------\n",
        "\n",
        "## **Exercise 2: Assigning or Modifying Columns Using `assign`**\n",
        "\n",
        "**Objective:**  \n",
        "Practice adding or modifying columns in a DataFrame using the `assign`\n",
        "function.\n",
        "\n",
        "### **2.1: Adding a Fare Category Column**\n",
        "\n",
        "**Question:**  \n",
        "Use the `assign` function to add a new column `fare_category` to the\n",
        "`titanic_cleaned` DataFrame. Categorize the `fare` into four categories:\n",
        "‘Low’ (0-50), ‘Medium’ (50-100), ‘High’ (100-150), and ‘Very High’ (150\n",
        "and above). Display the first five rows of the updated DataFrame."
      ],
      "id": "72b02659-d757-4ad4-9e16-626958e25023"
    },
    {
      "cell_type": "code",
      "execution_count": 20,
      "metadata": {},
      "outputs": [],
      "source": [
        "# Add a new column 'fare_category' based on fare\n",
        "\n",
        "# Display the first five rows with the new column"
      ],
      "id": "b0bb7950"
    },
    {
      "cell_type": "markdown",
      "metadata": {},
      "source": [
        "------------------------------------------------------------------------\n",
        "\n",
        "## **Exercise 3: Indexing DataFrames with `iloc` and `loc`**\n",
        "\n",
        "**Objective:**  \n",
        "Practice subsetting rows and columns of a DataFrame using both integer\n",
        "indices (`iloc`) and labels (`loc`).\n",
        "\n",
        "### **3.1: Selecting Rows and Columns Using `iloc`**\n",
        "\n",
        "**Question:**  \n",
        "Use `iloc` to select the first 5 rows and the first 3 columns of the\n",
        "`titanic_cleaned` DataFrame. Assign the result to `subset_iloc` and\n",
        "display it."
      ],
      "id": "da44fe63-bb4b-4bc6-a388-d9c737b00177"
    },
    {
      "cell_type": "code",
      "execution_count": 21,
      "metadata": {},
      "outputs": [],
      "source": [
        "# Using iloc to select the first 5 rows and first 3 columns"
      ],
      "id": "d5db4fdb"
    },
    {
      "cell_type": "markdown",
      "metadata": {},
      "source": [
        "### **3.2: Selecting Specific Rows and Columns with `iloc`**\n",
        "\n",
        "**Question:**  \n",
        "Use `iloc` to select rows at positions 0, 2, and 4 and columns at\n",
        "positions 1 and 3 from the `titanic_cleaned` DataFrame. Assign the\n",
        "result to `subset_iloc_specific` and display it."
      ],
      "id": "afcb904b-e4b9-468c-9c84-123b301d4ba7"
    },
    {
      "cell_type": "code",
      "execution_count": 22,
      "metadata": {},
      "outputs": [],
      "source": [
        "# Using iloc to select specific rows and columns"
      ],
      "id": "3ae96988"
    },
    {
      "cell_type": "markdown",
      "metadata": {},
      "source": [
        "### **3.3: Selecting Rows and Columns Using `loc`**\n",
        "\n",
        "**Question:**  \n",
        "Use `loc` to select passengers who embarked from ‘S’ and are in ‘Third’\n",
        "class. Select the `sex`, `fare`, and `embarked` columns. Assign the\n",
        "result to `subset_loc` and display it."
      ],
      "id": "19bf3991-2cac-4fb6-a0e2-2ecdb407289f"
    },
    {
      "cell_type": "code",
      "execution_count": 23,
      "metadata": {},
      "outputs": [],
      "source": [
        "# Using loc to select rows and columns based on labels"
      ],
      "id": "d5bf12c8"
    },
    {
      "cell_type": "markdown",
      "metadata": {},
      "source": [
        "------------------------------------------------------------------------\n",
        "\n",
        "## **Exercise 4: Reshaping DataFrames**\n",
        "\n",
        "**Objective:**  \n",
        "Learn how to reshape DataFrames using `melt` and `pivot` functions.\n",
        "\n",
        "### **4.1 Using `melt` to Unpivot DataFrames**\n",
        "\n",
        "**Question:**  \n",
        "Given the following DataFrame `df_wide`, use the `melt` function to\n",
        "transform it into a long format. Assign the result to `df_long` and\n",
        "display it."
      ],
      "id": "a1fe2a4e-6030-4ef3-b92e-f6b99a193a43"
    },
    {
      "cell_type": "code",
      "execution_count": 24,
      "metadata": {},
      "outputs": [],
      "source": [
        "# Example DataFrame\n",
        "data = {\n",
        "    'id': [1, 2, 3],\n",
        "    'year_2020': [100, 150, 200],\n",
        "    'year_2021': [110, 160, 210]\n",
        "}\n",
        "\n",
        "# Melt the DataFrame"
      ],
      "id": "47ac0feb"
    },
    {
      "cell_type": "markdown",
      "metadata": {},
      "source": [
        "### **4.2 Using `pivot` to Reshape DataFrames**\n",
        "\n",
        "**Question:**  \n",
        "Use the `pivot` function to transform the `df_long` DataFrame back to\n",
        "its original wide format. Assign the result to `df_pivot` and display\n",
        "it."
      ],
      "id": "58179769-bdbb-489c-9c3f-328d3f64f35a"
    },
    {
      "cell_type": "code",
      "execution_count": 25,
      "metadata": {},
      "outputs": [],
      "source": [
        "# Pivot the long DataFrame back to wide format"
      ],
      "id": "dd16127a"
    },
    {
      "cell_type": "markdown",
      "metadata": {},
      "source": [
        "------------------------------------------------------------------------\n",
        "\n",
        "## **Exercise 5: Merging Two DataFrames**\n",
        "\n",
        "**Objective:**  \n",
        "Combine two DataFrames based on a common key using the `merge` function.\n",
        "\n",
        "### **5.1: Merging with Class Information**\n",
        "\n",
        "**Question:**  \n",
        "Create a second DataFrame named `class_info` containing the `class` and\n",
        "the total number of passengers in each class. Merge this DataFrame with\n",
        "the `grouped` DataFrame on the `class` column. Assign the result to\n",
        "`merged_df` and display it."
      ],
      "id": "f7ab3e96-3aaa-4aee-ab1a-5be5fff812cf"
    },
    {
      "cell_type": "code",
      "execution_count": 26,
      "metadata": {},
      "outputs": [],
      "source": [
        "# Create a second DataFrame with class and number of passengers\n",
        "\n",
        "\n",
        "# Merge the two DataFrames on 'class'\n",
        "\n",
        "# Display the merged DataFrame"
      ],
      "id": "e93163a6"
    },
    {
      "cell_type": "markdown",
      "metadata": {},
      "source": [
        "------------------------------------------------------------------------\n",
        "\n",
        "## **Exercise 6: Sorting Data and Selecting Top Entries**\n",
        "\n",
        "**Objective:**  \n",
        "Develop skills in sorting DataFrames based on specific columns and\n",
        "ranking entries to identify key data points.\n",
        "\n",
        "### **6.1: Sorting by Fare in Descending Order**\n",
        "\n",
        "**Question:**  \n",
        "Sort the `survived_passengers` DataFrame by the `fare` column in\n",
        "descending order. Assign the sorted DataFrame to `sorted_fare` and\n",
        "display the first five rows."
      ],
      "id": "bff12582-6c08-4afe-a408-550fd9ff8927"
    },
    {
      "cell_type": "code",
      "execution_count": 27,
      "metadata": {},
      "outputs": [],
      "source": [
        "# Sort the DataFrame by 'fare' in descending order\n",
        "\n",
        "# Display the first five rows"
      ],
      "id": "488e8021"
    },
    {
      "cell_type": "markdown",
      "metadata": {},
      "source": [
        "### **6.2: Selecting Top 10 Passengers with Highest Fares**\n",
        "\n",
        "**Question:**  \n",
        "From the `sorted_fare` DataFrame, select the top 10 passengers who paid\n",
        "the highest fares. Assign this subset to `top_ten_fares` and display the\n",
        "`sex`, `class`, and `fare` columns."
      ],
      "id": "c2446c5d-7731-4bed-b81e-e214d758a3da"
    },
    {
      "cell_type": "code",
      "execution_count": 28,
      "metadata": {},
      "outputs": [],
      "source": [
        "# Select the top 10 passengers with highest fares\n",
        "\n",
        "# Display the selected columns"
      ],
      "id": "2211f3c9"
    },
    {
      "cell_type": "markdown",
      "metadata": {},
      "source": [
        "------------------------------------------------------------------------\n",
        "\n",
        "## **Exercise 7: Writing the DataFrame to a CSV File**\n",
        "\n",
        "**Objective:**  \n",
        "Export the `top_ten_fares` DataFrame to a CSV file for future use and\n",
        "verification.\n",
        "\n",
        "### **7.1: Exporting the Top Ten Fares to CSV**\n",
        "\n",
        "**Question:**  \n",
        "Export the `top_ten_fares` DataFrame to a CSV file named\n",
        "`top_ten_fares.csv` in the current working directory. Ensure that the\n",
        "index is not included in the exported file. Then, read the CSV file back\n",
        "into a new DataFrame named `exported_top_ten` and display its contents\n",
        "to confirm successful export."
      ],
      "id": "ea884e9c-588b-491b-9c20-c95c7cab24f7"
    },
    {
      "cell_type": "code",
      "execution_count": 29,
      "metadata": {},
      "outputs": [],
      "source": [
        "# Write the DataFrame to a CSV file without the index\n",
        "\n",
        "# Confirm export by reading the file back"
      ],
      "id": "064cee42"
    },
    {
      "cell_type": "markdown",
      "metadata": {},
      "source": [
        "------------------------------------------------------------------------\n",
        "\n",
        "## Transparency Statement for Lab 2: Reading and Manipulating Data with Pandas\n",
        "\n",
        "*This lab’s Python code and instructions were partially generated with\n",
        "the assistance of ChatGPT, an AI language model developed by OpenAI. The\n",
        "content is based on Chapter 2 of “Python for Data Analysis: Data\n",
        "Wrangling with Pandas, NumPy, and IPython” by Wes McKinney (2012) and\n",
        "other referenced materials.*\n",
        "\n",
        "## References\n",
        "\n",
        "-   McKinney, W. (2012). *Python for Data Analysis: Data Wrangling with\n",
        "    Pandas, NumPy, and IPython*. O’Reilly Media, Inc.\n",
        "-   The Pandas Development Team. (2020). *pandas-dev/pandas: Pandas*.\n",
        "    Retrieved from <https://doi.org/10.5281/zenodo.3509134>\n",
        "-   Seaborn Developers. (n.d.). *Seaborn: Statistical Data\n",
        "    Visualization*. Retrieved from <https://seaborn.pydata.org/> \\`\\`\\`"
      ],
      "id": "acd7735b-41ed-476f-b457-8f91b24af50b"
    }
  ],
  "nbformat": 4,
  "nbformat_minor": 5,
  "metadata": {
    "kernelspec": {
      "name": "python3",
      "display_name": "Python 3 (ipykernel)",
      "language": "python",
      "path": "/Users/briancervantesalvarez/anaconda3/share/jupyter/kernels/python3"
    }
  }
}