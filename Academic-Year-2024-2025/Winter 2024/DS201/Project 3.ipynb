{
  "cells": [
    {
      "cell_type": "markdown",
      "metadata": {},
      "source": [
        "# Project 3: Analyzing Online Retail Transactions\n",
        "\n",
        "## Overview and Objectives\n",
        "\n",
        "You will work with the [Online Retail\n",
        "dataset](https://archive.ics.uci.edu/dataset/352/online+retail).\n",
        "\n",
        "Your tasks:\n",
        "\n",
        "1.  **Explore** the data (EDA).\n",
        "2.  **Segment** customers with **K-Means** (unsupervised learning).\n",
        "3.  **Build** a **K-Nearest Neighbors** (KNN) classification model\n",
        "    (supervised learning).\n",
        "4.  **Interpret** the results and suggest potential business\n",
        "    applications.\n",
        "\n",
        "References:  \n",
        "- Chapters 2 & 3 on Data Loading and Cleaning  \n",
        "- Chapter 6 on Classification & Tuning  \n",
        "- Chapter 9 on Clustering\n",
        "\n",
        "------------------------------------------------------------------------\n",
        "\n",
        "## 1. Dataset Description and Setup\n",
        "\n",
        "The Online Retail dataset contains transactions from a UK-based retail\n",
        "business:\n",
        "\n",
        "-   **InvoiceNo**: Transaction ID (some start with “C” for\n",
        "    cancellations).  \n",
        "-   **StockCode**: Product item code.  \n",
        "-   **Description**: Product/item name.  \n",
        "-   **Quantity**: Number of products in the transaction.  \n",
        "-   **InvoiceDate**: Date and time of the transaction.  \n",
        "-   **UnitPrice**: Price per unit (in British pounds).  \n",
        "-   **CustomerID**: Unique 5-digit customer ID.  \n",
        "-   **Country**: Country where the customer resides.\n",
        "\n",
        "### 1.1. Import Packages & Load the Dataset"
      ],
      "id": "c23308e2-5f51-48e6-90bc-f491db44a122"
    },
    {
      "cell_type": "code",
      "execution_count": 1,
      "metadata": {},
      "outputs": [],
      "source": [
        "# [Student Code]\n",
        "# Import pandas, numpy, altair (or other plotting libraries).\n",
        "# Also import from sklearn:\n",
        "#   - train_test_split, StandardScaler, make_column_transformer\n",
        "#   - KNeighborsClassifier, KMeans\n",
        "#   - make_pipeline, GridSearchCV, cross_val_score (as needed)\n",
        "\n",
        "# For example:\n",
        "import pandas as pd\n",
        "import numpy as np\n",
        "import altair as alt\n",
        "# from sklearn... (etc.)\n",
        "\n",
        "# Load the Online Retail dataset (e.g., \"OnlineRetail.csv\")\n",
        "# Make sure the file is in the same directory or specify the path.\n",
        "online = pd.read_csv(\"OnlineRetail.csv\")\n",
        "\n",
        "# Verify load\n",
        "print(\"First 5 rows:\")\n",
        "print(online.head())\n",
        "\n",
        "print(\"\\nDataFrame info:\")\n",
        "print(online.info())"
      ],
      "id": "8421d032"
    },
    {
      "cell_type": "markdown",
      "metadata": {},
      "source": [
        "> **Note**: Check that your dataset columns match the dictionary above.\n",
        "\n",
        "------------------------------------------------------------------------\n",
        "\n",
        "## 2. Data Preparation and Exploration\n",
        "\n",
        "### 2.1 Basic Checks"
      ],
      "id": "10cb71f9-28df-4220-b3fd-e60fd17adf82"
    },
    {
      "cell_type": "code",
      "execution_count": 2,
      "metadata": {},
      "outputs": [],
      "source": [
        "# [Student Code] \n",
        "# - Print the shape of the dataset \n",
        "# - Check for missing values\n",
        "# - Possibly examine unique InvoiceNo or StockCode values\n",
        "# - Summarize basic statistics for 'Quantity', 'UnitPrice', etc."
      ],
      "id": "c982f16e"
    },
    {
      "cell_type": "markdown",
      "metadata": {},
      "source": [
        "> **Question (Outside Code)**:  \n",
        "> What is the shape of the dataset? Are there any missing values or odd\n",
        "> entries you notice (e.g., negative quantities for\n",
        "> returns/cancellations)?\n",
        "\n",
        "### 2.2 Feature Engineering (Customer-Level)\n",
        "\n",
        "You will need to create **customer-level** features (e.g., total\n",
        "spending, frequency of purchases)."
      ],
      "id": "2c9e83de-4225-4686-bd9d-5b6139c742e3"
    },
    {
      "cell_type": "code",
      "execution_count": 3,
      "metadata": {},
      "outputs": [],
      "source": [
        "# [Student Code]\n",
        "# Steps might include:\n",
        "#  - Remove cancelled transactions (InvoiceNo starting with 'C') \n",
        "#    or decide how to handle them.\n",
        "#  - Group by 'CustomerID' to compute features like:\n",
        "#      total_spending = sum(Quantity * UnitPrice)\n",
        "#      total_quantity = sum(Quantity)\n",
        "#      transaction_count = number of transactions\n",
        "#  - Possibly rename columns for clarity."
      ],
      "id": "e0e2198b"
    },
    {
      "cell_type": "markdown",
      "metadata": {},
      "source": [
        "> **Hint**: For grouping techniques, recall GroupBy methods from\n",
        "> Chapters 2 & 3.  \n",
        "> **Question (Outside Code)**:  \n",
        "> Which features do you think best capture “customer behavior” for\n",
        "> segmenting?\n",
        "\n",
        "------------------------------------------------------------------------\n",
        "\n",
        "## 3. Unsupervised Learning: Customer Segmentation\n",
        "\n",
        "We will use **K-Means** clustering to find natural groupings.\n",
        "\n",
        "### 3.1 Selecting and Standardizing Features"
      ],
      "id": "48d1f346-9d06-441b-b8c3-37bace01982f"
    },
    {
      "cell_type": "code",
      "execution_count": 4,
      "metadata": {},
      "outputs": [],
      "source": [
        "# [Student Code]\n",
        "# Suppose you created a dataframe \"customer_df\" with columns:\n",
        "#   CustomerID, total_spending, total_quantity, transaction_count, ...\n",
        "# We will keep only numeric columns for clustering (e.g., total_spending, total_quantity, transaction_count).\n",
        "\n",
        "# Example:\n",
        "# X = customer_df[[\"total_spending\", \"total_quantity\", \"transaction_count\"]]\n",
        "\n",
        "# Create a pipeline:\n",
        "#   - ColumnTransformer or StandardScaler for numeric columns\n",
        "#   - KMeans(n_clusters=3) as initial attempt"
      ],
      "id": "46239816"
    },
    {
      "cell_type": "markdown",
      "metadata": {},
      "source": [
        "### 3.2 Initial K-Means and Elbow Plot"
      ],
      "id": "e044848c-edf3-48f6-ae9d-f296f510b312"
    },
    {
      "cell_type": "code",
      "execution_count": 5,
      "metadata": {},
      "outputs": [],
      "source": [
        "# [Student Code]\n",
        "# - Start with k=3 just to see initial results\n",
        "# - Then create an elbow plot for k in range(1,10), storing inertia_ values\n",
        "# - Plot the inertia_ vs. k to find the \"elbow.\"\n",
        "\n",
        "# Example of creating multiple KMeans, each with different n_clusters,\n",
        "# collecting the inertia_, then plotting with altair."
      ],
      "id": "bed2ae64"
    },
    {
      "cell_type": "markdown",
      "metadata": {},
      "source": [
        "> **Question (Outside Code)**:  \n",
        "> Based on your elbow plot, which value of k seems appropriate?\n",
        "\n",
        "### 3.3 Visualizing Clusters"
      ],
      "id": "fcfe9745-69a8-4677-8239-e7c887a93f6b"
    },
    {
      "cell_type": "code",
      "execution_count": 6,
      "metadata": {},
      "outputs": [],
      "source": [
        "# [Student Code]\n",
        "# After deciding on an optimal k, fit the KMeans model again \n",
        "# and assign cluster labels to the customer_df (or another dataframe).\n",
        "# Then visualize, e.g., a scatter plot of total_spending vs. total_quantity\n",
        "# colored by the cluster label."
      ],
      "id": "c01b962d"
    },
    {
      "cell_type": "markdown",
      "metadata": {},
      "source": [
        "> **Question (Outside Code)**:  \n",
        "> How would you describe each cluster? Are there distinct patterns\n",
        "> (e.g., high spend vs. low spend)?\n",
        "\n",
        "------------------------------------------------------------------------\n",
        "\n",
        "## 4. Supervised Learning: Building a KNN Classifier\n",
        "\n",
        "Now, we will define a **binary target**. For instance, “Is a customer a\n",
        "repeat buyer?” or “Does the customer spend more than a threshold?”\n",
        "\n",
        "### 4.1 Creating the Target Variable"
      ],
      "id": "b30962eb-c572-44c1-a4ea-bf413d5905df"
    },
    {
      "cell_type": "code",
      "execution_count": 7,
      "metadata": {},
      "outputs": [],
      "source": [
        "# [Student Code]\n",
        "# Example: \n",
        "#   target = (customer_df[\"transaction_count\"] > 1).astype(int)\n",
        "# This yields 1 if the customer is a repeat buyer, else 0."
      ],
      "id": "8e49a77b"
    },
    {
      "cell_type": "markdown",
      "metadata": {},
      "source": [
        "### 4.2 Train-Test Split and Preprocessing"
      ],
      "id": "9edeac6c-17c8-4eff-afab-094f0a019415"
    },
    {
      "cell_type": "code",
      "execution_count": 8,
      "metadata": {},
      "outputs": [],
      "source": [
        "# [Student Code]\n",
        "# from sklearn.model_selection import train_test_split\n",
        "\n",
        "# X could be numeric features (like total_spending, total_quantity, etc.)\n",
        "# y is the target you defined above\n",
        "\n",
        "# Split: train_size=0.75, stratify=y, random_state=1\n",
        "# Then make a pipeline with (preprocessor, KNeighborsClassifier())\n",
        "# Example preprocessor: StandardScaler for numeric columns"
      ],
      "id": "4e20743f"
    },
    {
      "cell_type": "markdown",
      "metadata": {},
      "source": [
        "### 4.3 Baseline KNN and Accuracy"
      ],
      "id": "74e2713e-e64b-4b06-92fd-54d511acd28c"
    },
    {
      "cell_type": "code",
      "execution_count": 9,
      "metadata": {},
      "outputs": [],
      "source": [
        "# [Student Code]\n",
        "# - Fit a baseline KNeighborsClassifier (k=5) \n",
        "# - Evaluate on test set with pipeline.score(...)\n",
        "# - Print baseline accuracy"
      ],
      "id": "4c4703b7"
    },
    {
      "cell_type": "markdown",
      "metadata": {},
      "source": [
        "### 4.4 Tuning with Cross-Validation"
      ],
      "id": "15f474cc-2522-4c19-ae4e-487dd4233f5f"
    },
    {
      "cell_type": "code",
      "execution_count": 10,
      "metadata": {},
      "outputs": [],
      "source": [
        "# [Student Code]\n",
        "# - Use GridSearchCV with a parameter grid for \n",
        "#     kneighborsclassifier__n_neighbors (like range(1,30,2))\n",
        "# - cv=5 or cv=10\n",
        "# - Fit on the training set\n",
        "# - Check grid_search.best_params_ and grid_search.best_score_"
      ],
      "id": "d77d75ca"
    },
    {
      "cell_type": "markdown",
      "metadata": {},
      "source": [
        "### 4.5 Final Evaluation"
      ],
      "id": "5da463cb-af00-41bd-b184-04715624d1b4"
    },
    {
      "cell_type": "code",
      "execution_count": 11,
      "metadata": {},
      "outputs": [],
      "source": [
        "# [Student Code]\n",
        "# - Predict on test set\n",
        "# - Evaluate final accuracy \n",
        "# - Create a confusion matrix to see false positives & false negatives\n",
        "# from sklearn.metrics import confusion_matrix, precision_score, recall_score\n",
        "\n",
        "# conf_mat = confusion_matrix(y_test, y_pred)\n",
        "# ..."
      ],
      "id": "31043839"
    },
    {
      "cell_type": "markdown",
      "metadata": {},
      "source": [
        "> **Question (Outside Code)**:  \n",
        "> Discuss how well your classifier performs. Are there business\n",
        "> implications if you misclassify a “repeat buyer” vs. a “one-time\n",
        "> buyer”?\n",
        "\n",
        "------------------------------------------------------------------------\n",
        "\n",
        "## 5. Interpretation and Reporting\n",
        "\n",
        "### 5.1 Integrating Clustering & Classification Findings\n",
        "\n",
        "In **Markdown** (outside of code), discuss:\n",
        "\n",
        "1.  **Cluster Profiles**: How do the clusters differ in terms of\n",
        "    spending, quantity, or frequency?  \n",
        "2.  **Classifier Performance**: Summarize accuracy, confusion matrix,\n",
        "    and any relevant metrics like precision, recall, or F1-score.  \n",
        "3.  **Business Insights**:\n",
        "    -   Possible marketing strategies for each cluster.  \n",
        "    -   How to leverage the classification results (e.g., target likely\n",
        "        repeat buyers with special offers?).  \n",
        "    -   Potential trade-offs between capturing all repeat buyers\n",
        "        (recall) vs. incorrectly labeling some non-repeat buyers\n",
        "        (precision).\n",
        "\n",
        "### 5.2 Limitations & Further Work\n",
        "\n",
        "-   Are there outliers (very large orders)?  \n",
        "-   Could you consider other models or more advanced clustering (e.g.,\n",
        "    DBSCAN)?  \n",
        "-   What might you do with time-based features (like recency of\n",
        "    purchase)?\n",
        "\n",
        "------------------------------------------------------------------------\n",
        "\n",
        "## Final Deliverables\n",
        "\n",
        "1.  **Fully Executed Notebook**\n",
        "    -   Includes your code, outputs, and commentary.  \n",
        "    -   All sections completed, from EDA to unsupervised (K-Means) to\n",
        "        supervised (KNN).  \n",
        "2.  **Short Report** (1–2 pages)\n",
        "    -   Summarizes your methodology, key findings, and recommendations\n",
        "        for a hypothetical marketing or business team.  \n",
        "    -   Optionally, highlight interesting examples of how you could use\n",
        "        your clusters or your classification predictions in real\n",
        "        practice.\n",
        "\n",
        "------------------------------------------------------------------------"
      ],
      "id": "540b5747-044c-4be9-8051-8d48e793ca95"
    }
  ],
  "nbformat": 4,
  "nbformat_minor": 5,
  "metadata": {
    "kernelspec": {
      "name": "python3",
      "display_name": "Python 3 (ipykernel)",
      "language": "python",
      "path": "/Users/briancervantesalvarez/anaconda3/share/jupyter/kernels/python3"
    },
    "language_info": {
      "name": "python",
      "codemirror_mode": {
        "name": "ipython",
        "version": "3"
      },
      "file_extension": ".py",
      "mimetype": "text/x-python",
      "nbconvert_exporter": "python",
      "pygments_lexer": "ipython3",
      "version": "3.10.9"
    }
  }
}